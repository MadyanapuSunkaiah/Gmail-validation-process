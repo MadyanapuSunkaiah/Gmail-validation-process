{
 "cells": [
  {
   "cell_type": "markdown",
   "id": "cbd2a809-6e3e-4387-a341-9d5654fae665",
   "metadata": {},
   "source": [
    " # Checking validate Gmail Address"
   ]
  },
  {
   "cell_type": "code",
   "execution_count": 13,
   "id": "7394e615-1738-4af1-857c-5be891d312da",
   "metadata": {},
   "outputs": [
    {
     "name": "stdin",
     "output_type": "stream",
     "text": [
      "enter the gmail :  msunkaiah663@gmail.com\n"
     ]
    },
    {
     "name": "stdout",
     "output_type": "stream",
     "text": [
      " right gmail \n"
     ]
    }
   ],
   "source": [
    "gmail=input(\"enter the gmail : \")   # msunkaiah663@gmail.com\n",
    "M,N,P=0,0,0\n",
    "if len(gmail)>=5:  # 1\n",
    "    if gmail[0].isalpha(): # 2\n",
    "        if (\"@\" in gmail) and (gmail.count(\"@\")==1): # 3\n",
    "            if (gmail[-4]==\".\"): # 4   \n",
    "                for i in gmail:\n",
    "                    if i==i.isspace(): # 5\n",
    "                        M=1\n",
    "                    elif i.isalpha():\n",
    "                        if i.isupper(): # 5\n",
    "                            N=1\n",
    "                    elif i.isdigit(): # 5\n",
    "                        continue\n",
    "                    elif i==\"_\" or i==\".\" or i==\"@\" : # 5\n",
    "                        continue\n",
    "                    else:\n",
    "                        P=1         \n",
    "                if M==1 or N==1 or P==1:\n",
    "                    print(\" wrong gmail 5 \")\n",
    "                else:\n",
    "                    print(\" right gmail \")\n",
    "            else:\n",
    "                print(\" wrong gmail 4 \")\n",
    "        else:\n",
    "            print(\" wrong gmail 3 \")\n",
    "    else:\n",
    "        print(\" wrong gmail 2 \")\n",
    "else:\n",
    "    print(\" wrong gmail 1 \")"
   ]
  },
  {
   "cell_type": "code",
   "execution_count": null,
   "id": "f8d05d97-2131-4a4e-a358-3ef4ca5ee45b",
   "metadata": {},
   "outputs": [],
   "source": []
  },
  {
   "cell_type": "code",
   "execution_count": null,
   "id": "22d4442e-6c54-4435-9a58-05918ed9d8ba",
   "metadata": {},
   "outputs": [],
   "source": []
  }
 ],
 "metadata": {
  "kernelspec": {
   "display_name": "Python 3 (ipykernel)",
   "language": "python",
   "name": "python3"
  },
  "language_info": {
   "codemirror_mode": {
    "name": "ipython",
    "version": 3
   },
   "file_extension": ".py",
   "mimetype": "text/x-python",
   "name": "python",
   "nbconvert_exporter": "python",
   "pygments_lexer": "ipython3",
   "version": "3.12.4"
  }
 },
 "nbformat": 4,
 "nbformat_minor": 5
}
